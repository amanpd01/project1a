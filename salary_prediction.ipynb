{
 "cells": [
  {
   "cell_type": "code",
   "execution_count": 49,
   "id": "644742b2",
   "metadata": {},
   "outputs": [],
   "source": [
    "import pandas as pd\n",
    "import numpy as np\n",
    "import matplotlib.pyplot as plt\n",
    "import seaborn as sns"
   ]
  },
  {
   "cell_type": "code",
   "execution_count": 50,
   "id": "b26a1c07",
   "metadata": {},
   "outputs": [
    {
     "data": {
      "text/html": [
       "<div>\n",
       "<style scoped>\n",
       "    .dataframe tbody tr th:only-of-type {\n",
       "        vertical-align: middle;\n",
       "    }\n",
       "\n",
       "    .dataframe tbody tr th {\n",
       "        vertical-align: top;\n",
       "    }\n",
       "\n",
       "    .dataframe thead th {\n",
       "        text-align: right;\n",
       "    }\n",
       "</style>\n",
       "<table border=\"1\" class=\"dataframe\">\n",
       "  <thead>\n",
       "    <tr style=\"text-align: right;\">\n",
       "      <th></th>\n",
       "      <th>Name</th>\n",
       "      <th>JobTitle</th>\n",
       "      <th>AgencyID</th>\n",
       "      <th>Agency</th>\n",
       "      <th>HireDate</th>\n",
       "      <th>AnnualSalary</th>\n",
       "      <th>GrossPay</th>\n",
       "    </tr>\n",
       "  </thead>\n",
       "  <tbody>\n",
       "    <tr>\n",
       "      <th>0</th>\n",
       "      <td>Aaron,Keontae E</td>\n",
       "      <td>AIDE BLUE CHIP</td>\n",
       "      <td>W02200</td>\n",
       "      <td>Youth Summer</td>\n",
       "      <td>06/10/2013</td>\n",
       "      <td>$11310.00</td>\n",
       "      <td>$873.63</td>\n",
       "    </tr>\n",
       "    <tr>\n",
       "      <th>1</th>\n",
       "      <td>Aaron,Patricia G</td>\n",
       "      <td>Facilities/Office Services II</td>\n",
       "      <td>A03031</td>\n",
       "      <td>OED-Employment Dev</td>\n",
       "      <td>10/24/1979</td>\n",
       "      <td>$53428.00</td>\n",
       "      <td>$52868.38</td>\n",
       "    </tr>\n",
       "    <tr>\n",
       "      <th>2</th>\n",
       "      <td>Aaron,Petra L</td>\n",
       "      <td>ASSISTANT STATE'S ATTORNEY</td>\n",
       "      <td>A29005</td>\n",
       "      <td>States Attorneys Office</td>\n",
       "      <td>09/25/2006</td>\n",
       "      <td>$68300.00</td>\n",
       "      <td>$67439.19</td>\n",
       "    </tr>\n",
       "    <tr>\n",
       "      <th>3</th>\n",
       "      <td>Abaineh,Yohannes T</td>\n",
       "      <td>EPIDEMIOLOGIST</td>\n",
       "      <td>A65026</td>\n",
       "      <td>HLTH-Health Department</td>\n",
       "      <td>07/23/2009</td>\n",
       "      <td>$62000.00</td>\n",
       "      <td>$58654.74</td>\n",
       "    </tr>\n",
       "    <tr>\n",
       "      <th>4</th>\n",
       "      <td>Abbene,Anthony M</td>\n",
       "      <td>POLICE OFFICER TRAINEE</td>\n",
       "      <td>A99416</td>\n",
       "      <td>Police Department</td>\n",
       "      <td>07/24/2013</td>\n",
       "      <td>$43999.00</td>\n",
       "      <td>$39686.95</td>\n",
       "    </tr>\n",
       "  </tbody>\n",
       "</table>\n",
       "</div>"
      ],
      "text/plain": [
       "                 Name                       JobTitle AgencyID  \\\n",
       "0     Aaron,Keontae E                 AIDE BLUE CHIP   W02200   \n",
       "1    Aaron,Patricia G  Facilities/Office Services II   A03031   \n",
       "2       Aaron,Petra L     ASSISTANT STATE'S ATTORNEY   A29005   \n",
       "3  Abaineh,Yohannes T                 EPIDEMIOLOGIST   A65026   \n",
       "4    Abbene,Anthony M         POLICE OFFICER TRAINEE   A99416   \n",
       "\n",
       "                     Agency    HireDate AnnualSalary   GrossPay  \n",
       "0            Youth Summer    06/10/2013    $11310.00    $873.63  \n",
       "1       OED-Employment Dev   10/24/1979    $53428.00  $52868.38  \n",
       "2  States Attorneys Office   09/25/2006    $68300.00  $67439.19  \n",
       "3   HLTH-Health Department   07/23/2009    $62000.00  $58654.74  \n",
       "4        Police Department   07/24/2013    $43999.00  $39686.95  "
      ]
     },
     "execution_count": 50,
     "metadata": {},
     "output_type": "execute_result"
    }
   ],
   "source": [
    "df=pd.read_csv(\"salaryprediction.csv\")\n",
    "df.head()"
   ]
  },
  {
   "cell_type": "code",
   "execution_count": 51,
   "id": "6c11d2e3",
   "metadata": {},
   "outputs": [
    {
     "data": {
      "text/plain": [
       "(18981, 7)"
      ]
     },
     "execution_count": 51,
     "metadata": {},
     "output_type": "execute_result"
    }
   ],
   "source": [
    "df.shape"
   ]
  },
  {
   "cell_type": "code",
   "execution_count": 52,
   "id": "c16ed516",
   "metadata": {},
   "outputs": [
    {
     "name": "stdout",
     "output_type": "stream",
     "text": [
      "<class 'pandas.core.frame.DataFrame'>\n",
      "RangeIndex: 18981 entries, 0 to 18980\n",
      "Data columns (total 7 columns):\n",
      " #   Column        Non-Null Count  Dtype \n",
      "---  ------        --------------  ----- \n",
      " 0    Name         18981 non-null  object\n",
      " 1   JobTitle      18981 non-null  object\n",
      " 2   AgencyID      18981 non-null  object\n",
      " 3   Agency        18981 non-null  object\n",
      " 4   HireDate      18911 non-null  object\n",
      " 5   AnnualSalary  18981 non-null  object\n",
      " 6   GrossPay      15758 non-null  object\n",
      "dtypes: object(7)\n",
      "memory usage: 1.0+ MB\n"
     ]
    }
   ],
   "source": [
    "df.info()"
   ]
  },
  {
   "cell_type": "code",
   "execution_count": 53,
   "id": "f9c51830",
   "metadata": {},
   "outputs": [
    {
     "data": {
      "text/html": [
       "<div>\n",
       "<style scoped>\n",
       "    .dataframe tbody tr th:only-of-type {\n",
       "        vertical-align: middle;\n",
       "    }\n",
       "\n",
       "    .dataframe tbody tr th {\n",
       "        vertical-align: top;\n",
       "    }\n",
       "\n",
       "    .dataframe thead th {\n",
       "        text-align: right;\n",
       "    }\n",
       "</style>\n",
       "<table border=\"1\" class=\"dataframe\">\n",
       "  <thead>\n",
       "    <tr style=\"text-align: right;\">\n",
       "      <th></th>\n",
       "      <th>Name</th>\n",
       "      <th>JobTitle</th>\n",
       "      <th>AgencyID</th>\n",
       "      <th>Agency</th>\n",
       "      <th>HireDate</th>\n",
       "      <th>AnnualSalary</th>\n",
       "      <th>GrossPay</th>\n",
       "    </tr>\n",
       "  </thead>\n",
       "  <tbody>\n",
       "    <tr>\n",
       "      <th>count</th>\n",
       "      <td>18981</td>\n",
       "      <td>18981</td>\n",
       "      <td>18981</td>\n",
       "      <td>18981</td>\n",
       "      <td>18911</td>\n",
       "      <td>18981</td>\n",
       "      <td>15758</td>\n",
       "    </tr>\n",
       "    <tr>\n",
       "      <th>unique</th>\n",
       "      <td>18788</td>\n",
       "      <td>1075</td>\n",
       "      <td>1177</td>\n",
       "      <td>65</td>\n",
       "      <td>4737</td>\n",
       "      <td>1590</td>\n",
       "      <td>13732</td>\n",
       "    </tr>\n",
       "    <tr>\n",
       "      <th>top</th>\n",
       "      <td>Battle,Daron J</td>\n",
       "      <td>AIDE BLUE CHIP</td>\n",
       "      <td>P04001</td>\n",
       "      <td>Youth Summer</td>\n",
       "      <td>05/21/2014</td>\n",
       "      <td>$11310.00</td>\n",
       "      <td>$1051.25</td>\n",
       "    </tr>\n",
       "    <tr>\n",
       "      <th>freq</th>\n",
       "      <td>2</td>\n",
       "      <td>4817</td>\n",
       "      <td>316</td>\n",
       "      <td>4323</td>\n",
       "      <td>1478</td>\n",
       "      <td>4811</td>\n",
       "      <td>848</td>\n",
       "    </tr>\n",
       "  </tbody>\n",
       "</table>\n",
       "</div>"
      ],
      "text/plain": [
       "                  Name        JobTitle AgencyID          Agency    HireDate  \\\n",
       "count            18981           18981    18981           18981       18911   \n",
       "unique           18788            1075     1177              65        4737   \n",
       "top     Battle,Daron J  AIDE BLUE CHIP   P04001  Youth Summer    05/21/2014   \n",
       "freq                 2            4817      316            4323        1478   \n",
       "\n",
       "       AnnualSalary  GrossPay  \n",
       "count         18981     15758  \n",
       "unique         1590     13732  \n",
       "top       $11310.00  $1051.25  \n",
       "freq           4811       848  "
      ]
     },
     "execution_count": 53,
     "metadata": {},
     "output_type": "execute_result"
    }
   ],
   "source": [
    "df.describe()"
   ]
  },
  {
   "cell_type": "code",
   "execution_count": 54,
   "id": "c0c37603",
   "metadata": {},
   "outputs": [
    {
     "data": {
      "text/plain": [
       "Index([' Name', 'JobTitle', 'AgencyID', 'Agency', 'HireDate', 'AnnualSalary',\n",
       "       'GrossPay'],\n",
       "      dtype='object')"
      ]
     },
     "execution_count": 54,
     "metadata": {},
     "output_type": "execute_result"
    }
   ],
   "source": [
    "df.columns"
   ]
  },
  {
   "cell_type": "code",
   "execution_count": 55,
   "id": "ec5fa991",
   "metadata": {},
   "outputs": [
    {
     "data": {
      "text/plain": [
       "Index(['Name', 'JobTitle', 'AgencyID', 'Agency', 'HireDate', 'AnnualSalary',\n",
       "       'GrossPay'],\n",
       "      dtype='object')"
      ]
     },
     "execution_count": 55,
     "metadata": {},
     "output_type": "execute_result"
    }
   ],
   "source": [
    "df.columns=df.columns.str.strip()\n",
    "df.columns"
   ]
  },
  {
   "cell_type": "code",
   "execution_count": 56,
   "id": "7e59e87c",
   "metadata": {},
   "outputs": [],
   "source": [
    "for i in df.columns:\n",
    "    df[i]=df[i].str.strip()"
   ]
  },
  {
   "cell_type": "code",
   "execution_count": 57,
   "id": "a196d757",
   "metadata": {},
   "outputs": [
    {
     "data": {
      "text/plain": [
       "7"
      ]
     },
     "execution_count": 57,
     "metadata": {},
     "output_type": "execute_result"
    }
   ],
   "source": [
    "len(df.columns)"
   ]
  },
  {
   "cell_type": "code",
   "execution_count": 58,
   "id": "ad70b9f1",
   "metadata": {},
   "outputs": [],
   "source": [
    "df['Name']=df['Name'].apply(lambda x : x.lower())\n",
    "df['JobTitle']=df['JobTitle'].apply(lambda x : x.lower())\n",
    "df['AgencyID']=df['AgencyID'].apply(lambda x : x.lower())\n",
    "df['Agency']=df['Agency'].apply(lambda x : x.lower())"
   ]
  },
  {
   "cell_type": "code",
   "execution_count": 59,
   "id": "f40a8777",
   "metadata": {},
   "outputs": [
    {
     "data": {
      "text/html": [
       "<div>\n",
       "<style scoped>\n",
       "    .dataframe tbody tr th:only-of-type {\n",
       "        vertical-align: middle;\n",
       "    }\n",
       "\n",
       "    .dataframe tbody tr th {\n",
       "        vertical-align: top;\n",
       "    }\n",
       "\n",
       "    .dataframe thead th {\n",
       "        text-align: right;\n",
       "    }\n",
       "</style>\n",
       "<table border=\"1\" class=\"dataframe\">\n",
       "  <thead>\n",
       "    <tr style=\"text-align: right;\">\n",
       "      <th></th>\n",
       "      <th>Name</th>\n",
       "      <th>JobTitle</th>\n",
       "      <th>AgencyID</th>\n",
       "      <th>Agency</th>\n",
       "      <th>HireDate</th>\n",
       "      <th>AnnualSalary</th>\n",
       "      <th>GrossPay</th>\n",
       "    </tr>\n",
       "  </thead>\n",
       "  <tbody>\n",
       "    <tr>\n",
       "      <th>0</th>\n",
       "      <td>aaron,keontae e</td>\n",
       "      <td>aide blue chip</td>\n",
       "      <td>w02200</td>\n",
       "      <td>youth summer</td>\n",
       "      <td>06/10/2013</td>\n",
       "      <td>$11310.00</td>\n",
       "      <td>$873.63</td>\n",
       "    </tr>\n",
       "    <tr>\n",
       "      <th>1</th>\n",
       "      <td>aaron,patricia g</td>\n",
       "      <td>facilities/office services ii</td>\n",
       "      <td>a03031</td>\n",
       "      <td>oed-employment dev</td>\n",
       "      <td>10/24/1979</td>\n",
       "      <td>$53428.00</td>\n",
       "      <td>$52868.38</td>\n",
       "    </tr>\n",
       "    <tr>\n",
       "      <th>2</th>\n",
       "      <td>aaron,petra l</td>\n",
       "      <td>assistant state's attorney</td>\n",
       "      <td>a29005</td>\n",
       "      <td>states attorneys office</td>\n",
       "      <td>09/25/2006</td>\n",
       "      <td>$68300.00</td>\n",
       "      <td>$67439.19</td>\n",
       "    </tr>\n",
       "    <tr>\n",
       "      <th>3</th>\n",
       "      <td>abaineh,yohannes t</td>\n",
       "      <td>epidemiologist</td>\n",
       "      <td>a65026</td>\n",
       "      <td>hlth-health department</td>\n",
       "      <td>07/23/2009</td>\n",
       "      <td>$62000.00</td>\n",
       "      <td>$58654.74</td>\n",
       "    </tr>\n",
       "    <tr>\n",
       "      <th>4</th>\n",
       "      <td>abbene,anthony m</td>\n",
       "      <td>police officer trainee</td>\n",
       "      <td>a99416</td>\n",
       "      <td>police department</td>\n",
       "      <td>07/24/2013</td>\n",
       "      <td>$43999.00</td>\n",
       "      <td>$39686.95</td>\n",
       "    </tr>\n",
       "  </tbody>\n",
       "</table>\n",
       "</div>"
      ],
      "text/plain": [
       "                 Name                       JobTitle AgencyID  \\\n",
       "0     aaron,keontae e                 aide blue chip   w02200   \n",
       "1    aaron,patricia g  facilities/office services ii   a03031   \n",
       "2       aaron,petra l     assistant state's attorney   a29005   \n",
       "3  abaineh,yohannes t                 epidemiologist   a65026   \n",
       "4    abbene,anthony m         police officer trainee   a99416   \n",
       "\n",
       "                    Agency    HireDate AnnualSalary   GrossPay  \n",
       "0             youth summer  06/10/2013    $11310.00    $873.63  \n",
       "1       oed-employment dev  10/24/1979    $53428.00  $52868.38  \n",
       "2  states attorneys office  09/25/2006    $68300.00  $67439.19  \n",
       "3   hlth-health department  07/23/2009    $62000.00  $58654.74  \n",
       "4        police department  07/24/2013    $43999.00  $39686.95  "
      ]
     },
     "execution_count": 59,
     "metadata": {},
     "output_type": "execute_result"
    }
   ],
   "source": [
    "df.head()"
   ]
  },
  {
   "cell_type": "code",
   "execution_count": 60,
   "id": "c12b6f0f",
   "metadata": {},
   "outputs": [],
   "source": [
    "df['year']=pd.to_datetime(df['HireDate']).dt.year\n",
    "df['month']=pd.to_datetime(df['HireDate']).dt.month\n",
    "df['day']=pd.to_datetime(df['HireDate']).dt.day"
   ]
  },
  {
   "cell_type": "code",
   "execution_count": 61,
   "id": "d606dd80",
   "metadata": {},
   "outputs": [],
   "source": [
    "df['AnnualSalary']=df['AnnualSalary'].apply(lambda x : x[1:])"
   ]
  },
  {
   "cell_type": "code",
   "execution_count": 62,
   "id": "0f02e442",
   "metadata": {},
   "outputs": [
    {
     "name": "stdout",
     "output_type": "stream",
     "text": [
      "<class 'pandas.core.frame.DataFrame'>\n",
      "RangeIndex: 18981 entries, 0 to 18980\n",
      "Data columns (total 10 columns):\n",
      " #   Column        Non-Null Count  Dtype  \n",
      "---  ------        --------------  -----  \n",
      " 0   Name          18981 non-null  object \n",
      " 1   JobTitle      18981 non-null  object \n",
      " 2   AgencyID      18981 non-null  object \n",
      " 3   Agency        18981 non-null  object \n",
      " 4   HireDate      18911 non-null  object \n",
      " 5   AnnualSalary  18981 non-null  object \n",
      " 6   GrossPay      15758 non-null  object \n",
      " 7   year          18911 non-null  float64\n",
      " 8   month         18911 non-null  float64\n",
      " 9   day           18911 non-null  float64\n",
      "dtypes: float64(3), object(7)\n",
      "memory usage: 1.4+ MB\n"
     ]
    }
   ],
   "source": [
    "df.info()"
   ]
  },
  {
   "cell_type": "code",
   "execution_count": 63,
   "id": "e4a56852",
   "metadata": {},
   "outputs": [],
   "source": [
    "df['AnnualSalary']=pd.to_numeric(df['AnnualSalary'])"
   ]
  },
  {
   "cell_type": "code",
   "execution_count": 64,
   "id": "511bf35f",
   "metadata": {},
   "outputs": [],
   "source": [
    "df=df.drop_duplicates()"
   ]
  },
  {
   "cell_type": "code",
   "execution_count": 65,
   "id": "967d5de4",
   "metadata": {},
   "outputs": [
    {
     "name": "stdout",
     "output_type": "stream",
     "text": [
      "<class 'pandas.core.frame.DataFrame'>\n",
      "RangeIndex: 18981 entries, 0 to 18980\n",
      "Data columns (total 10 columns):\n",
      " #   Column        Non-Null Count  Dtype  \n",
      "---  ------        --------------  -----  \n",
      " 0   Name          18981 non-null  object \n",
      " 1   JobTitle      18981 non-null  object \n",
      " 2   AgencyID      18981 non-null  object \n",
      " 3   Agency        18981 non-null  object \n",
      " 4   HireDate      18911 non-null  object \n",
      " 5   AnnualSalary  18981 non-null  float64\n",
      " 6   GrossPay      15758 non-null  object \n",
      " 7   year          18911 non-null  float64\n",
      " 8   month         18911 non-null  float64\n",
      " 9   day           18911 non-null  float64\n",
      "dtypes: float64(4), object(6)\n",
      "memory usage: 1.4+ MB\n"
     ]
    }
   ],
   "source": [
    "df.info()"
   ]
  },
  {
   "cell_type": "code",
   "execution_count": 66,
   "id": "63decccc",
   "metadata": {},
   "outputs": [
    {
     "data": {
      "text/html": [
       "<div>\n",
       "<style scoped>\n",
       "    .dataframe tbody tr th:only-of-type {\n",
       "        vertical-align: middle;\n",
       "    }\n",
       "\n",
       "    .dataframe tbody tr th {\n",
       "        vertical-align: top;\n",
       "    }\n",
       "\n",
       "    .dataframe thead th {\n",
       "        text-align: right;\n",
       "    }\n",
       "</style>\n",
       "<table border=\"1\" class=\"dataframe\">\n",
       "  <thead>\n",
       "    <tr style=\"text-align: right;\">\n",
       "      <th></th>\n",
       "      <th>Name</th>\n",
       "      <th>JobTitle</th>\n",
       "      <th>AgencyID</th>\n",
       "      <th>Agency</th>\n",
       "      <th>HireDate</th>\n",
       "      <th>AnnualSalary</th>\n",
       "      <th>GrossPay</th>\n",
       "      <th>year</th>\n",
       "      <th>month</th>\n",
       "      <th>day</th>\n",
       "    </tr>\n",
       "  </thead>\n",
       "  <tbody>\n",
       "    <tr>\n",
       "      <th>0</th>\n",
       "      <td>aaron,keontae e</td>\n",
       "      <td>aide blue chip</td>\n",
       "      <td>w02200</td>\n",
       "      <td>youth summer</td>\n",
       "      <td>06/10/2013</td>\n",
       "      <td>11310.0</td>\n",
       "      <td>$873.63</td>\n",
       "      <td>2013.0</td>\n",
       "      <td>6.0</td>\n",
       "      <td>10.0</td>\n",
       "    </tr>\n",
       "    <tr>\n",
       "      <th>1</th>\n",
       "      <td>aaron,patricia g</td>\n",
       "      <td>facilities/office services ii</td>\n",
       "      <td>a03031</td>\n",
       "      <td>oed-employment dev</td>\n",
       "      <td>10/24/1979</td>\n",
       "      <td>53428.0</td>\n",
       "      <td>$52868.38</td>\n",
       "      <td>1979.0</td>\n",
       "      <td>10.0</td>\n",
       "      <td>24.0</td>\n",
       "    </tr>\n",
       "    <tr>\n",
       "      <th>2</th>\n",
       "      <td>aaron,petra l</td>\n",
       "      <td>assistant state's attorney</td>\n",
       "      <td>a29005</td>\n",
       "      <td>states attorneys office</td>\n",
       "      <td>09/25/2006</td>\n",
       "      <td>68300.0</td>\n",
       "      <td>$67439.19</td>\n",
       "      <td>2006.0</td>\n",
       "      <td>9.0</td>\n",
       "      <td>25.0</td>\n",
       "    </tr>\n",
       "    <tr>\n",
       "      <th>3</th>\n",
       "      <td>abaineh,yohannes t</td>\n",
       "      <td>epidemiologist</td>\n",
       "      <td>a65026</td>\n",
       "      <td>hlth-health department</td>\n",
       "      <td>07/23/2009</td>\n",
       "      <td>62000.0</td>\n",
       "      <td>$58654.74</td>\n",
       "      <td>2009.0</td>\n",
       "      <td>7.0</td>\n",
       "      <td>23.0</td>\n",
       "    </tr>\n",
       "    <tr>\n",
       "      <th>4</th>\n",
       "      <td>abbene,anthony m</td>\n",
       "      <td>police officer trainee</td>\n",
       "      <td>a99416</td>\n",
       "      <td>police department</td>\n",
       "      <td>07/24/2013</td>\n",
       "      <td>43999.0</td>\n",
       "      <td>$39686.95</td>\n",
       "      <td>2013.0</td>\n",
       "      <td>7.0</td>\n",
       "      <td>24.0</td>\n",
       "    </tr>\n",
       "  </tbody>\n",
       "</table>\n",
       "</div>"
      ],
      "text/plain": [
       "                 Name                       JobTitle AgencyID  \\\n",
       "0     aaron,keontae e                 aide blue chip   w02200   \n",
       "1    aaron,patricia g  facilities/office services ii   a03031   \n",
       "2       aaron,petra l     assistant state's attorney   a29005   \n",
       "3  abaineh,yohannes t                 epidemiologist   a65026   \n",
       "4    abbene,anthony m         police officer trainee   a99416   \n",
       "\n",
       "                    Agency    HireDate  AnnualSalary   GrossPay    year  \\\n",
       "0             youth summer  06/10/2013       11310.0    $873.63  2013.0   \n",
       "1       oed-employment dev  10/24/1979       53428.0  $52868.38  1979.0   \n",
       "2  states attorneys office  09/25/2006       68300.0  $67439.19  2006.0   \n",
       "3   hlth-health department  07/23/2009       62000.0  $58654.74  2009.0   \n",
       "4        police department  07/24/2013       43999.0  $39686.95  2013.0   \n",
       "\n",
       "   month   day  \n",
       "0    6.0  10.0  \n",
       "1   10.0  24.0  \n",
       "2    9.0  25.0  \n",
       "3    7.0  23.0  \n",
       "4    7.0  24.0  "
      ]
     },
     "execution_count": 66,
     "metadata": {},
     "output_type": "execute_result"
    }
   ],
   "source": [
    "df.head()"
   ]
  },
  {
   "cell_type": "code",
   "execution_count": 67,
   "id": "a50d9642",
   "metadata": {},
   "outputs": [
    {
     "data": {
      "text/plain": [
       "Name               0\n",
       "JobTitle           0\n",
       "AgencyID           0\n",
       "Agency             0\n",
       "HireDate          70\n",
       "AnnualSalary       0\n",
       "GrossPay        3223\n",
       "year              70\n",
       "month             70\n",
       "day               70\n",
       "dtype: int64"
      ]
     },
     "execution_count": 67,
     "metadata": {},
     "output_type": "execute_result"
    }
   ],
   "source": [
    "df.isnull().sum()"
   ]
  },
  {
   "cell_type": "code",
   "execution_count": 68,
   "id": "c2c66725",
   "metadata": {},
   "outputs": [
    {
     "data": {
      "text/plain": [
       "(18981, 10)"
      ]
     },
     "execution_count": 68,
     "metadata": {},
     "output_type": "execute_result"
    }
   ],
   "source": [
    "df.shape"
   ]
  },
  {
   "cell_type": "code",
   "execution_count": 69,
   "id": "7c62c559",
   "metadata": {},
   "outputs": [
    {
     "data": {
      "text/plain": [
       "0.368789842474053"
      ]
     },
     "execution_count": 69,
     "metadata": {},
     "output_type": "execute_result"
    }
   ],
   "source": [
    "(70/df.shape[0])*100"
   ]
  },
  {
   "cell_type": "code",
   "execution_count": 70,
   "id": "e10c7387",
   "metadata": {},
   "outputs": [],
   "source": [
    "df.dropna(subset='HireDate',inplace=True)"
   ]
  },
  {
   "cell_type": "code",
   "execution_count": 71,
   "id": "cc03050f",
   "metadata": {},
   "outputs": [
    {
     "data": {
      "text/plain": [
       "0"
      ]
     },
     "execution_count": 71,
     "metadata": {},
     "output_type": "execute_result"
    }
   ],
   "source": [
    "df['HireDate'].isnull().sum()"
   ]
  },
  {
   "cell_type": "code",
   "execution_count": 72,
   "id": "e2e59ab8",
   "metadata": {},
   "outputs": [
    {
     "data": {
      "text/plain": [
       "Name               0\n",
       "JobTitle           0\n",
       "AgencyID           0\n",
       "Agency             0\n",
       "HireDate           0\n",
       "AnnualSalary       0\n",
       "GrossPay        3223\n",
       "year               0\n",
       "month              0\n",
       "day                0\n",
       "dtype: int64"
      ]
     },
     "execution_count": 72,
     "metadata": {},
     "output_type": "execute_result"
    }
   ],
   "source": [
    "df.isnull().sum()"
   ]
  },
  {
   "cell_type": "code",
   "execution_count": 73,
   "id": "d9f974ba",
   "metadata": {},
   "outputs": [],
   "source": [
    "df['year']=df['year'].astype('int')\n",
    "df['month']=df['month'].astype('int')\n",
    "df['day']=df['day'].astype('int')"
   ]
  },
  {
   "cell_type": "code",
   "execution_count": 74,
   "id": "8127b449",
   "metadata": {},
   "outputs": [
    {
     "data": {
      "text/html": [
       "<div>\n",
       "<style scoped>\n",
       "    .dataframe tbody tr th:only-of-type {\n",
       "        vertical-align: middle;\n",
       "    }\n",
       "\n",
       "    .dataframe tbody tr th {\n",
       "        vertical-align: top;\n",
       "    }\n",
       "\n",
       "    .dataframe thead th {\n",
       "        text-align: right;\n",
       "    }\n",
       "</style>\n",
       "<table border=\"1\" class=\"dataframe\">\n",
       "  <thead>\n",
       "    <tr style=\"text-align: right;\">\n",
       "      <th></th>\n",
       "      <th>Name</th>\n",
       "      <th>JobTitle</th>\n",
       "      <th>AgencyID</th>\n",
       "      <th>Agency</th>\n",
       "      <th>HireDate</th>\n",
       "      <th>AnnualSalary</th>\n",
       "      <th>GrossPay</th>\n",
       "      <th>year</th>\n",
       "      <th>month</th>\n",
       "      <th>day</th>\n",
       "    </tr>\n",
       "  </thead>\n",
       "  <tbody>\n",
       "    <tr>\n",
       "      <th>0</th>\n",
       "      <td>aaron,keontae e</td>\n",
       "      <td>aide blue chip</td>\n",
       "      <td>w02200</td>\n",
       "      <td>youth summer</td>\n",
       "      <td>06/10/2013</td>\n",
       "      <td>11310.0</td>\n",
       "      <td>$873.63</td>\n",
       "      <td>2013</td>\n",
       "      <td>6</td>\n",
       "      <td>10</td>\n",
       "    </tr>\n",
       "    <tr>\n",
       "      <th>1</th>\n",
       "      <td>aaron,patricia g</td>\n",
       "      <td>facilities/office services ii</td>\n",
       "      <td>a03031</td>\n",
       "      <td>oed-employment dev</td>\n",
       "      <td>10/24/1979</td>\n",
       "      <td>53428.0</td>\n",
       "      <td>$52868.38</td>\n",
       "      <td>1979</td>\n",
       "      <td>10</td>\n",
       "      <td>24</td>\n",
       "    </tr>\n",
       "    <tr>\n",
       "      <th>2</th>\n",
       "      <td>aaron,petra l</td>\n",
       "      <td>assistant state's attorney</td>\n",
       "      <td>a29005</td>\n",
       "      <td>states attorneys office</td>\n",
       "      <td>09/25/2006</td>\n",
       "      <td>68300.0</td>\n",
       "      <td>$67439.19</td>\n",
       "      <td>2006</td>\n",
       "      <td>9</td>\n",
       "      <td>25</td>\n",
       "    </tr>\n",
       "    <tr>\n",
       "      <th>3</th>\n",
       "      <td>abaineh,yohannes t</td>\n",
       "      <td>epidemiologist</td>\n",
       "      <td>a65026</td>\n",
       "      <td>hlth-health department</td>\n",
       "      <td>07/23/2009</td>\n",
       "      <td>62000.0</td>\n",
       "      <td>$58654.74</td>\n",
       "      <td>2009</td>\n",
       "      <td>7</td>\n",
       "      <td>23</td>\n",
       "    </tr>\n",
       "    <tr>\n",
       "      <th>4</th>\n",
       "      <td>abbene,anthony m</td>\n",
       "      <td>police officer trainee</td>\n",
       "      <td>a99416</td>\n",
       "      <td>police department</td>\n",
       "      <td>07/24/2013</td>\n",
       "      <td>43999.0</td>\n",
       "      <td>$39686.95</td>\n",
       "      <td>2013</td>\n",
       "      <td>7</td>\n",
       "      <td>24</td>\n",
       "    </tr>\n",
       "  </tbody>\n",
       "</table>\n",
       "</div>"
      ],
      "text/plain": [
       "                 Name                       JobTitle AgencyID  \\\n",
       "0     aaron,keontae e                 aide blue chip   w02200   \n",
       "1    aaron,patricia g  facilities/office services ii   a03031   \n",
       "2       aaron,petra l     assistant state's attorney   a29005   \n",
       "3  abaineh,yohannes t                 epidemiologist   a65026   \n",
       "4    abbene,anthony m         police officer trainee   a99416   \n",
       "\n",
       "                    Agency    HireDate  AnnualSalary   GrossPay  year  month  \\\n",
       "0             youth summer  06/10/2013       11310.0    $873.63  2013      6   \n",
       "1       oed-employment dev  10/24/1979       53428.0  $52868.38  1979     10   \n",
       "2  states attorneys office  09/25/2006       68300.0  $67439.19  2006      9   \n",
       "3   hlth-health department  07/23/2009       62000.0  $58654.74  2009      7   \n",
       "4        police department  07/24/2013       43999.0  $39686.95  2013      7   \n",
       "\n",
       "   day  \n",
       "0   10  \n",
       "1   24  \n",
       "2   25  \n",
       "3   23  \n",
       "4   24  "
      ]
     },
     "execution_count": 74,
     "metadata": {},
     "output_type": "execute_result"
    }
   ],
   "source": [
    "df.head()"
   ]
  },
  {
   "cell_type": "code",
   "execution_count": 75,
   "id": "95a4b120",
   "metadata": {},
   "outputs": [
    {
     "data": {
      "text/html": [
       "<div>\n",
       "<style scoped>\n",
       "    .dataframe tbody tr th:only-of-type {\n",
       "        vertical-align: middle;\n",
       "    }\n",
       "\n",
       "    .dataframe tbody tr th {\n",
       "        vertical-align: top;\n",
       "    }\n",
       "\n",
       "    .dataframe thead th {\n",
       "        text-align: right;\n",
       "    }\n",
       "</style>\n",
       "<table border=\"1\" class=\"dataframe\">\n",
       "  <thead>\n",
       "    <tr style=\"text-align: right;\">\n",
       "      <th></th>\n",
       "      <th>Name</th>\n",
       "      <th>JobTitle</th>\n",
       "      <th>AgencyID</th>\n",
       "      <th>Agency</th>\n",
       "      <th>AnnualSalary</th>\n",
       "      <th>year</th>\n",
       "      <th>month</th>\n",
       "      <th>day</th>\n",
       "    </tr>\n",
       "  </thead>\n",
       "  <tbody>\n",
       "    <tr>\n",
       "      <th>0</th>\n",
       "      <td>aaron,keontae e</td>\n",
       "      <td>aide blue chip</td>\n",
       "      <td>w02200</td>\n",
       "      <td>youth summer</td>\n",
       "      <td>11310.0</td>\n",
       "      <td>2013</td>\n",
       "      <td>6</td>\n",
       "      <td>10</td>\n",
       "    </tr>\n",
       "    <tr>\n",
       "      <th>1</th>\n",
       "      <td>aaron,patricia g</td>\n",
       "      <td>facilities/office services ii</td>\n",
       "      <td>a03031</td>\n",
       "      <td>oed-employment dev</td>\n",
       "      <td>53428.0</td>\n",
       "      <td>1979</td>\n",
       "      <td>10</td>\n",
       "      <td>24</td>\n",
       "    </tr>\n",
       "    <tr>\n",
       "      <th>2</th>\n",
       "      <td>aaron,petra l</td>\n",
       "      <td>assistant state's attorney</td>\n",
       "      <td>a29005</td>\n",
       "      <td>states attorneys office</td>\n",
       "      <td>68300.0</td>\n",
       "      <td>2006</td>\n",
       "      <td>9</td>\n",
       "      <td>25</td>\n",
       "    </tr>\n",
       "    <tr>\n",
       "      <th>3</th>\n",
       "      <td>abaineh,yohannes t</td>\n",
       "      <td>epidemiologist</td>\n",
       "      <td>a65026</td>\n",
       "      <td>hlth-health department</td>\n",
       "      <td>62000.0</td>\n",
       "      <td>2009</td>\n",
       "      <td>7</td>\n",
       "      <td>23</td>\n",
       "    </tr>\n",
       "    <tr>\n",
       "      <th>4</th>\n",
       "      <td>abbene,anthony m</td>\n",
       "      <td>police officer trainee</td>\n",
       "      <td>a99416</td>\n",
       "      <td>police department</td>\n",
       "      <td>43999.0</td>\n",
       "      <td>2013</td>\n",
       "      <td>7</td>\n",
       "      <td>24</td>\n",
       "    </tr>\n",
       "  </tbody>\n",
       "</table>\n",
       "</div>"
      ],
      "text/plain": [
       "                 Name                       JobTitle AgencyID  \\\n",
       "0     aaron,keontae e                 aide blue chip   w02200   \n",
       "1    aaron,patricia g  facilities/office services ii   a03031   \n",
       "2       aaron,petra l     assistant state's attorney   a29005   \n",
       "3  abaineh,yohannes t                 epidemiologist   a65026   \n",
       "4    abbene,anthony m         police officer trainee   a99416   \n",
       "\n",
       "                    Agency  AnnualSalary  year  month  day  \n",
       "0             youth summer       11310.0  2013      6   10  \n",
       "1       oed-employment dev       53428.0  1979     10   24  \n",
       "2  states attorneys office       68300.0  2006      9   25  \n",
       "3   hlth-health department       62000.0  2009      7   23  \n",
       "4        police department       43999.0  2013      7   24  "
      ]
     },
     "execution_count": 75,
     "metadata": {},
     "output_type": "execute_result"
    }
   ],
   "source": [
    "df.drop(columns=['HireDate','GrossPay'],inplace=True)\n",
    "df.head()"
   ]
  },
  {
   "cell_type": "code",
   "execution_count": 76,
   "id": "84bf77a5",
   "metadata": {},
   "outputs": [
    {
     "name": "stdout",
     "output_type": "stream",
     "text": [
      "<class 'pandas.core.frame.DataFrame'>\n",
      "Index: 18911 entries, 0 to 18980\n",
      "Data columns (total 8 columns):\n",
      " #   Column        Non-Null Count  Dtype  \n",
      "---  ------        --------------  -----  \n",
      " 0   Name          18911 non-null  object \n",
      " 1   JobTitle      18911 non-null  object \n",
      " 2   AgencyID      18911 non-null  object \n",
      " 3   Agency        18911 non-null  object \n",
      " 4   AnnualSalary  18911 non-null  float64\n",
      " 5   year          18911 non-null  int32  \n",
      " 6   month         18911 non-null  int32  \n",
      " 7   day           18911 non-null  int32  \n",
      "dtypes: float64(1), int32(3), object(4)\n",
      "memory usage: 1.1+ MB\n"
     ]
    }
   ],
   "source": [
    "df.info()"
   ]
  },
  {
   "cell_type": "code",
   "execution_count": 77,
   "id": "314fd310",
   "metadata": {},
   "outputs": [
    {
     "data": {
      "text/plain": [
       "0             aaron,keontae e\n",
       "1            aaron,patricia g\n",
       "2               aaron,petra l\n",
       "3          abaineh,yohannes t\n",
       "4            abbene,anthony m\n",
       "                 ...         \n",
       "18976    zotamou,jean marie d\n",
       "18977         zotamou,pivot d\n",
       "18978    zovistoski,zachary d\n",
       "18979       zubyk,stanislav t\n",
       "18980      zukowski,charles j\n",
       "Name: Name, Length: 18911, dtype: object"
      ]
     },
     "execution_count": 77,
     "metadata": {},
     "output_type": "execute_result"
    }
   ],
   "source": [
    "df['Name']"
   ]
  },
  {
   "cell_type": "code",
   "execution_count": 78,
   "id": "aa5682e5",
   "metadata": {},
   "outputs": [
    {
     "data": {
      "text/plain": [
       "1060"
      ]
     },
     "execution_count": 78,
     "metadata": {},
     "output_type": "execute_result"
    }
   ],
   "source": [
    "df['JobTitle'].nunique()"
   ]
  },
  {
   "cell_type": "code",
   "execution_count": 79,
   "id": "43c8767e",
   "metadata": {},
   "outputs": [
    {
     "data": {
      "text/plain": [
       "JobTitle\n",
       "aide blue chip                    4817\n",
       "police officer                    1866\n",
       "laborer (hourly)                   597\n",
       "crossing guard                     374\n",
       "emt firefighter suppression        358\n",
       "                                  ... \n",
       "supt communications/computer o       1\n",
       "vehicle damage investigator          1\n",
       "accounting systems analyst           1\n",
       "desk top publishing coordinato       1\n",
       "president city council               1\n",
       "Name: count, Length: 1060, dtype: int64"
      ]
     },
     "execution_count": 79,
     "metadata": {},
     "output_type": "execute_result"
    }
   ],
   "source": [
    "df['JobTitle'].value_counts()"
   ]
  },
  {
   "cell_type": "code",
   "execution_count": 80,
   "id": "8f419ffa",
   "metadata": {},
   "outputs": [
    {
     "name": "stdout",
     "output_type": "stream",
     "text": [
      "1060\n"
     ]
    },
    {
     "data": {
      "image/png": "[encoded data removed]",
      "text/plain": [
       "<Figure size 640x480 with 2 Axes>"
      ]
     },
     "metadata": {},
     "output_type": "display_data"
    }
   ],
   "source": [
    "print(df['JobTitle'].nunique())\n",
    "plt.subplot(1,2,1)\n",
    "df['JobTitle'].value_counts().head(15).plot(kind='bar')\n",
    "plt.grid()\n",
    "plt.subplot(1,2,2)\n",
    "df['JobTitle'].value_counts().tail(15).plot(kind='bar')\n",
    "plt.grid()"
   ]
  },
  {
   "cell_type": "code",
   "execution_count": 81,
   "id": "91dbf16e",
   "metadata": {},
   "outputs": [
    {
     "data": {
      "text/plain": [
       "64"
      ]
     },
     "execution_count": 81,
     "metadata": {},
     "output_type": "execute_result"
    }
   ],
   "source": [
    "df['Agency'].nunique()"
   ]
  },
  {
   "cell_type": "code",
   "execution_count": 82,
   "id": "6ebb36a9",
   "metadata": {},
   "outputs": [
    {
     "data": {
      "text/plain": [
       "Agency\n",
       "youth summer                4817\n",
       "police department           3141\n",
       "fire department             1576\n",
       "dpw-water & waste water     1491\n",
       "hlth-health department       833\n",
       "                            ... \n",
       "m-r labor commissioner         6\n",
       "hlth-health dept locatio       6\n",
       "legislative reference          5\n",
       "m-r cable & comm               4\n",
       "special city services          4\n",
       "Name: count, Length: 64, dtype: int64"
      ]
     },
     "execution_count": 82,
     "metadata": {},
     "output_type": "execute_result"
    }
   ],
   "source": [
    "df['Agency'].value_counts()"
   ]
  },
  {
   "cell_type": "code",
   "execution_count": 83,
   "id": "be5e0aa8",
   "metadata": {},
   "outputs": [
    {
     "name": "stdout",
     "output_type": "stream",
     "text": [
      "64\n"
     ]
    },
    {
     "data": {
      "image/png": "[encoded data removed]",
      "text/plain": [
       "<Figure size 640x480 with 1 Axes>"
      ]
     },
     "metadata": {},
     "output_type": "display_data"
    }
   ],
   "source": [
    "print(df['Agency'].nunique())\n",
    "df['Agency'].value_counts().head(15).plot.bar()\n",
    "plt.grid()"
   ]
  },
  {
   "cell_type": "code",
   "execution_count": 84,
   "id": "6cfb66a6",
   "metadata": {},
   "outputs": [
    {
     "name": "stdout",
     "output_type": "stream",
     "text": [
      "1177\n"
     ]
    },
    {
     "data": {
      "text/plain": [
       "<Axes: xlabel='AgencyID'>"
      ]
     },
     "execution_count": 84,
     "metadata": {},
     "output_type": "execute_result"
    },
    {
     "data": {
      "image/png": "[encoded data removed]",
      "text/plain": [
       "<Figure size 640x480 with 1 Axes>"
      ]
     },
     "metadata": {},
     "output_type": "display_data"
    }
   ],
   "source": [
    "print(df['AgencyID'].nunique())\n",
    "df['AgencyID'].value_counts().head(15).plot.bar()"
   ]
  },
  {
   "cell_type": "code",
   "execution_count": null,
   "id": "2cfd7e86",
   "metadata": {},
   "outputs": [],
   "source": []
  },
  {
   "cell_type": "code",
   "execution_count": null,
   "id": "c1f4e3aa",
   "metadata": {},
   "outputs": [],
   "source": []
  },
  {
   "cell_type": "code",
   "execution_count": null,
   "id": "95a1cec0",
   "metadata": {},
   "outputs": [],
   "source": []
  },
  {
   "cell_type": "code",
   "execution_count": null,
   "id": "f6d4ea9e",
   "metadata": {},
   "outputs": [],
   "source": []
  },
  {
   "cell_type": "code",
   "execution_count": null,
   "id": "5eafda61",
   "metadata": {},
   "outputs": [],
   "source": []
  },
  {
   "cell_type": "code",
   "execution_count": null,
   "id": "1e292ff5",
   "metadata": {},
   "outputs": [],
   "source": []
  },
  {
   "cell_type": "code",
   "execution_count": null,
   "id": "c61105e2",
   "metadata": {},
   "outputs": [],
   "source": []
  },
  {
   "cell_type": "code",
   "execution_count": null,
   "id": "e392ad5c",
   "metadata": {},
   "outputs": [],
   "source": []
  },
  {
   "cell_type": "code",
   "execution_count": null,
   "id": "0949e641",
   "metadata": {},
   "outputs": [],
   "source": []
  },
  {
   "cell_type": "code",
   "execution_count": null,
   "id": "ecaa5d59",
   "metadata": {},
   "outputs": [],
   "source": []
  },
  {
   "cell_type": "code",
   "execution_count": null,
   "id": "9ae783dc",
   "metadata": {},
   "outputs": [],
   "source": []
  },
  {
   "cell_type": "code",
   "execution_count": null,
   "id": "d1da0c40",
   "metadata": {},
   "outputs": [],
   "source": []
  },
  {
   "cell_type": "code",
   "execution_count": null,
   "id": "b85ecdae",
   "metadata": {},
   "outputs": [],
   "source": []
  },
  {
   "cell_type": "code",
   "execution_count": null,
   "id": "6dcb7f9b",
   "metadata": {},
   "outputs": [],
   "source": []
  },
  {
   "cell_type": "code",
   "execution_count": null,
   "id": "f4ffb770",
   "metadata": {},
   "outputs": [],
   "source": []
  },
  {
   "cell_type": "code",
   "execution_count": null,
   "id": "48bc8c14",
   "metadata": {},
   "outputs": [],
   "source": []
  },
  {
   "cell_type": "code",
   "execution_count": null,
   "id": "f1cd93d0",
   "metadata": {},
   "outputs": [],
   "source": []
  },
  {
   "cell_type": "code",
   "execution_count": null,
   "id": "6fbb080d",
   "metadata": {},
   "outputs": [],
   "source": []
  },
  {
   "cell_type": "code",
   "execution_count": null,
   "id": "eb281ba8",
   "metadata": {},
   "outputs": [],
   "source": []
  },
  {
   "cell_type": "code",
   "execution_count": null,
   "id": "d5bfda25",
   "metadata": {},
   "outputs": [],
   "source": []
  },
  {
   "cell_type": "code",
   "execution_count": null,
   "id": "cccd946b",
   "metadata": {},
   "outputs": [],
   "source": []
  },
  {
   "cell_type": "code",
   "execution_count": null,
   "id": "7a87333b",
   "metadata": {},
   "outputs": [],
   "source": []
  },
  {
   "cell_type": "code",
   "execution_count": null,
   "id": "31f6f20a",
   "metadata": {},
   "outputs": [],
   "source": []
  },
  {
   "cell_type": "code",
   "execution_count": null,
   "id": "082a70e6",
   "metadata": {},
   "outputs": [],
   "source": []
  },
  {
   "cell_type": "code",
   "execution_count": null,
   "id": "d0f1e3ca",
   "metadata": {},
   "outputs": [],
   "source": []
  },
  {
   "cell_type": "code",
   "execution_count": null,
   "id": "57aa71b7",
   "metadata": {},
   "outputs": [],
   "source": []
  },
  {
   "cell_type": "code",
   "execution_count": null,
   "id": "5049a8f0",
   "metadata": {},
   "outputs": [],
   "source": []
  },
  {
   "cell_type": "code",
   "execution_count": null,
   "id": "ae84c750",
   "metadata": {},
   "outputs": [],
   "source": []
  },
  {
   "cell_type": "code",
   "execution_count": null,
   "id": "6968559e",
   "metadata": {},
   "outputs": [],
   "source": []
  },
  {
   "cell_type": "code",
   "execution_count": null,
   "id": "8c287261",
   "metadata": {},
   "outputs": [],
   "source": []
  },
  {
   "cell_type": "code",
   "execution_count": null,
   "id": "1ff28682",
   "metadata": {},
   "outputs": [],
   "source": []
  },
  {
   "cell_type": "code",
   "execution_count": null,
   "id": "c00744e9",
   "metadata": {},
   "outputs": [],
   "source": []
  },
  {
   "cell_type": "code",
   "execution_count": null,
   "id": "1242b6b5",
   "metadata": {},
   "outputs": [],
   "source": []
  },
  {
   "cell_type": "code",
   "execution_count": null,
   "id": "2128492d",
   "metadata": {},
   "outputs": [],
   "source": []
  },
  {
   "cell_type": "code",
   "execution_count": null,
   "id": "23b09067",
   "metadata": {},
   "outputs": [],
   "source": []
  },
  {
   "cell_type": "code",
   "execution_count": null,
   "id": "486c6365",
   "metadata": {},
   "outputs": [],
   "source": []
  },
  {
   "cell_type": "code",
   "execution_count": null,
   "id": "aca191c2",
   "metadata": {},
   "outputs": [],
   "source": []
  },
  {
   "cell_type": "code",
   "execution_count": null,
   "id": "20bfcbcb",
   "metadata": {},
   "outputs": [],
   "source": []
  },
  {
   "cell_type": "code",
   "execution_count": null,
   "id": "bea0e8d5",
   "metadata": {},
   "outputs": [],
   "source": []
  },
  {
   "cell_type": "code",
   "execution_count": null,
   "id": "c7f419fd",
   "metadata": {},
   "outputs": [],
   "source": []
  },
  {
   "cell_type": "code",
   "execution_count": null,
   "id": "a85ed4a2",
   "metadata": {},
   "outputs": [],
   "source": []
  },
  {
   "cell_type": "code",
   "execution_count": null,
   "id": "703b0a14",
   "metadata": {},
   "outputs": [],
   "source": []
  },
  {
   "cell_type": "code",
   "execution_count": null,
   "id": "eed18a47",
   "metadata": {},
   "outputs": [],
   "source": []
  },
  {
   "cell_type": "code",
   "execution_count": null,
   "id": "6f01f5e3",
   "metadata": {},
   "outputs": [],
   "source": []
  },
  {
   "cell_type": "code",
   "execution_count": null,
   "id": "24946e92",
   "metadata": {},
   "outputs": [],
   "source": []
  },
  {
   "cell_type": "code",
   "execution_count": null,
   "id": "b3b2705b",
   "metadata": {},
   "outputs": [],
   "source": []
  },
  {
   "cell_type": "code",
   "execution_count": null,
   "id": "f892bfc2",
   "metadata": {},
   "outputs": [],
   "source": []
  },
  {
   "cell_type": "code",
   "execution_count": null,
   "id": "4cd1b736",
   "metadata": {},
   "outputs": [],
   "source": []
  },
  {
   "cell_type": "code",
   "execution_count": null,
   "id": "51780698",
   "metadata": {},
   "outputs": [],
   "source": []
  },
  {
   "cell_type": "code",
   "execution_count": null,
   "id": "e1134555",
   "metadata": {},
   "outputs": [],
   "source": []
  },
  {
   "cell_type": "code",
   "execution_count": null,
   "id": "095ccf1f",
   "metadata": {},
   "outputs": [],
   "source": []
  },
  {
   "cell_type": "code",
   "execution_count": null,
   "id": "7925418b",
   "metadata": {},
   "outputs": [],
   "source": []
  },
  {
   "cell_type": "code",
   "execution_count": null,
   "id": "d07fe8da",
   "metadata": {},
   "outputs": [],
   "source": []
  },
  {
   "cell_type": "code",
   "execution_count": null,
   "id": "b7260334",
   "metadata": {},
   "outputs": [],
   "source": []
  },
  {
   "cell_type": "code",
   "execution_count": null,
   "id": "8f6b8945",
   "metadata": {},
   "outputs": [],
   "source": []
  },
  {
   "cell_type": "code",
   "execution_count": null,
   "id": "f3a7bb6b",
   "metadata": {},
   "outputs": [],
   "source": []
  },
  {
   "cell_type": "code",
   "execution_count": null,
   "id": "5688752a",
   "metadata": {},
   "outputs": [],
   "source": []
  },
  {
   "cell_type": "code",
   "execution_count": null,
   "id": "856363c7",
   "metadata": {},
   "outputs": [],
   "source": []
  },
  {
   "cell_type": "code",
   "execution_count": null,
   "id": "da3977ee",
   "metadata": {},
   "outputs": [],
   "source": []
  },
  {
   "cell_type": "code",
   "execution_count": null,
   "id": "ad85e3e2",
   "metadata": {},
   "outputs": [],
   "source": []
  },
  {
   "cell_type": "code",
   "execution_count": null,
   "id": "c2998936",
   "metadata": {},
   "outputs": [],
   "source": []
  },
  {
   "cell_type": "code",
   "execution_count": null,
   "id": "a491c55a",
   "metadata": {},
   "outputs": [],
   "source": []
  },
  {
   "cell_type": "code",
   "execution_count": null,
   "id": "f1b45157",
   "metadata": {},
   "outputs": [],
   "source": []
  },
  {
   "cell_type": "code",
   "execution_count": null,
   "id": "43c4e1f8",
   "metadata": {},
   "outputs": [],
   "source": []
  },
  {
   "cell_type": "code",
   "execution_count": null,
   "id": "20650693",
   "metadata": {},
   "outputs": [],
   "source": []
  },
  {
   "cell_type": "code",
   "execution_count": null,
   "id": "c45a7ec1",
   "metadata": {},
   "outputs": [],
   "source": []
  },
  {
   "cell_type": "code",
   "execution_count": null,
   "id": "efc192c3",
   "metadata": {},
   "outputs": [],
   "source": []
  },
  {
   "cell_type": "code",
   "execution_count": null,
   "id": "3d2e6aad",
   "metadata": {},
   "outputs": [],
   "source": []
  },
  {
   "cell_type": "code",
   "execution_count": null,
   "id": "88027244",
   "metadata": {},
   "outputs": [],
   "source": []
  },
  {
   "cell_type": "code",
   "execution_count": null,
   "id": "48075e46",
   "metadata": {},
   "outputs": [],
   "source": []
  },
  {
   "cell_type": "code",
   "execution_count": null,
   "id": "5e035e9f",
   "metadata": {},
   "outputs": [],
   "source": []
  },
  {
   "cell_type": "code",
   "execution_count": null,
   "id": "447f9a57",
   "metadata": {},
   "outputs": [],
   "source": []
  },
  {
   "cell_type": "code",
   "execution_count": null,
   "id": "20ac9efe",
   "metadata": {},
   "outputs": [],
   "source": []
  },
  {
   "cell_type": "code",
   "execution_count": null,
   "id": "3567eb47",
   "metadata": {},
   "outputs": [],
   "source": []
  },
  {
   "cell_type": "code",
   "execution_count": null,
   "id": "bdb26297",
   "metadata": {},
   "outputs": [],
   "source": []
  },
  {
   "cell_type": "code",
   "execution_count": null,
   "id": "71a1556e",
   "metadata": {},
   "outputs": [],
   "source": []
  },
  {
   "cell_type": "code",
   "execution_count": null,
   "id": "2cef8bbb",
   "metadata": {},
   "outputs": [],
   "source": []
  },
  {
   "cell_type": "code",
   "execution_count": null,
   "id": "74918972",
   "metadata": {},
   "outputs": [],
   "source": []
  },
  {
   "cell_type": "code",
   "execution_count": null,
   "id": "619ce731",
   "metadata": {},
   "outputs": [],
   "source": []
  },
  {
   "cell_type": "code",
   "execution_count": null,
   "id": "8f6732d1",
   "metadata": {},
   "outputs": [],
   "source": []
  },
  {
   "cell_type": "code",
   "execution_count": null,
   "id": "a6d7a4de",
   "metadata": {},
   "outputs": [],
   "source": []
  },
  {
   "cell_type": "code",
   "execution_count": null,
   "id": "3a812c59",
   "metadata": {},
   "outputs": [],
   "source": []
  },
  {
   "cell_type": "code",
   "execution_count": null,
   "id": "082dc914",
   "metadata": {},
   "outputs": [],
   "source": []
  },
  {
   "cell_type": "code",
   "execution_count": null,
   "id": "ea2fc248",
   "metadata": {},
   "outputs": [],
   "source": []
  },
  {
   "cell_type": "code",
   "execution_count": null,
   "id": "730c824d",
   "metadata": {},
   "outputs": [],
   "source": []
  },
  {
   "cell_type": "code",
   "execution_count": null,
   "id": "f6134424",
   "metadata": {},
   "outputs": [],
   "source": []
  },
  {
   "cell_type": "code",
   "execution_count": null,
   "id": "f701078a",
   "metadata": {},
   "outputs": [],
   "source": []
  },
  {
   "cell_type": "code",
   "execution_count": null,
   "id": "20b76011",
   "metadata": {},
   "outputs": [],
   "source": []
  },
  {
   "cell_type": "code",
   "execution_count": null,
   "id": "8e197447",
   "metadata": {},
   "outputs": [],
   "source": []
  },
  {
   "cell_type": "code",
   "execution_count": null,
   "id": "44126fa8",
   "metadata": {},
   "outputs": [],
   "source": []
  },
  {
   "cell_type": "code",
   "execution_count": 49,
   "id": "4ca56420",
   "metadata": {},
   "outputs": [
    {
     "name": "stdout",
     "output_type": "stream",
     "text": [
      "   column1  column2\n",
      "0        3        3\n",
      "1        4        4\n",
      "2        5        5\n",
      "   column1  column2\n",
      "0        3        3\n",
      "1        4        4\n",
      "2        5        5\n"
     ]
    }
   ],
   "source": [
    "import pandas as pd\n",
    "\n",
    "# Sample DataFrame\n",
    "data = {\n",
    "    'column1': [1, 2, 3, 4, 5],\n",
    "    'column2': [3, 4, 5, 6, 7]\n",
    "}\n",
    "df = pd.DataFrame(data)\n",
    "\n",
    "# Find common rows between column1 and column2\n",
    "common_rows = pd.merge(df[['column1']], df[['column2']], how='inner', left_on='column1', right_on='column2')\n",
    "\n",
    "# Display the common rows\n",
    "print(common_rows)\n"
   ]
  },
  {
   "cell_type": "code",
   "execution_count": null,
   "id": "93d8cef3",
   "metadata": {},
   "outputs": [],
   "source": []
  },
  {
   "cell_type": "code",
   "execution_count": 50,
   "id": "0cf99aa7",
   "metadata": {},
   "outputs": [
    {
     "name": "stdout",
     "output_type": "stream",
     "text": [
      "{3, 4, 5}\n",
      "{3, 4, 5}\n"
     ]
    }
   ],
   "source": [
    "# Find common values between column1 and column2\n",
    "common_values = set(df['column1']).intersection(set(df['column2']))\n",
    "\n",
    "# Display the common values\n",
    "print(common_values)"
   ]
  },
  {
   "cell_type": "code",
   "execution_count": 51,
   "id": "3c56b3e5",
   "metadata": {},
   "outputs": [
    {
     "name": "stdout",
     "output_type": "stream",
     "text": [
      "Uncommon values: {1, 2, 6, 7}\n",
      "Uncommon values: {1, 2, 6, 7}\n"
     ]
    }
   ],
   "source": [
    "import pandas as pd\n",
    "\n",
    "# Sample DataFrame\n",
    "data = {\n",
    "    'column1': [1, 2, 3, 4, 5],\n",
    "    'column2': [3, 4, 5, 6, 7]\n",
    "}\n",
    "df = pd.DataFrame(data)\n",
    "\n",
    "# Convert columns to sets\n",
    "set_col1 = set(df['column1'])\n",
    "set_col2 = set(df['column2'])\n",
    "\n",
    "# Find uncommon values\n",
    "uncommon_values_col1 = set_col1 - set_col2\n",
    "uncommon_values_col2 = set_col2 - set_col1\n",
    "\n",
    "# Combine uncommon values\n",
    "uncommon_values = uncommon_values_col1.union(uncommon_values_col2)\n",
    "\n",
    "# Display the uncommon values\n",
    "print(\"Uncommon values:\", uncommon_values)\n"
   ]
  },
  {
   "cell_type": "code",
   "execution_count": 52,
   "id": "a7458991",
   "metadata": {},
   "outputs": [
    {
     "name": "stdout",
     "output_type": "stream",
     "text": [
      "Uncommon rows:\n",
      "    column1  column2\n",
      "0        1        3\n",
      "1        2        4\n",
      "2        4        6\n",
      "3        5        7\n",
      "Uncommon rows:\n",
      "    column1  column2\n",
      "0        1        3\n",
      "1        2        4\n",
      "2        4        6\n",
      "3        5        7\n"
     ]
    }
   ],
   "source": [
    " # Filter rows with uncommon values in column1\n",
    "uncommon_rows_col1 = df[~df['column1'].isin(set_col2)]\n",
    "\n",
    "# Filter rows with uncommon values in column2\n",
    "uncommon_rows_col2 = df[~df['column2'].isin(set_col1)]\n",
    "\n",
    "# Combine the uncommon rows\n",
    "uncommon_rows = pd.concat([uncommon_rows_col1, uncommon_rows_col2]).drop_duplicates().reset_index(drop=True)\n",
    "\n",
    "# Display the uncommon rows\n",
    "print(\"Uncommon rows:\\n\", uncommon_rows)"
   ]
  },
  {
   "cell_type": "code",
   "execution_count": 53,
   "id": "b9ed400c",
   "metadata": {},
   "outputs": [
    {
     "data": {
      "text/html": [
       "<div>\n",
       "<style scoped>\n",
       "    .dataframe tbody tr th:only-of-type {\n",
       "        vertical-align: middle;\n",
       "    }\n",
       "\n",
       "    .dataframe tbody tr th {\n",
       "        vertical-align: top;\n",
       "    }\n",
       "\n",
       "    .dataframe thead th {\n",
       "        text-align: right;\n",
       "    }\n",
       "</style>\n",
       "<table border=\"1\" class=\"dataframe\">\n",
       "  <thead>\n",
       "    <tr style=\"text-align: right;\">\n",
       "      <th></th>\n",
       "      <th>column1</th>\n",
       "      <th>column2</th>\n",
       "    </tr>\n",
       "  </thead>\n",
       "  <tbody>\n",
       "    <tr>\n",
       "      <th>0</th>\n",
       "      <td>1</td>\n",
       "      <td>3</td>\n",
       "    </tr>\n",
       "    <tr>\n",
       "      <th>1</th>\n",
       "      <td>2</td>\n",
       "      <td>4</td>\n",
       "    </tr>\n",
       "    <tr>\n",
       "      <th>2</th>\n",
       "      <td>3</td>\n",
       "      <td>5</td>\n",
       "    </tr>\n",
       "    <tr>\n",
       "      <th>3</th>\n",
       "      <td>4</td>\n",
       "      <td>6</td>\n",
       "    </tr>\n",
       "    <tr>\n",
       "      <th>4</th>\n",
       "      <td>5</td>\n",
       "      <td>7</td>\n",
       "    </tr>\n",
       "  </tbody>\n",
       "</table>\n",
       "</div>"
      ],
      "text/plain": [
       "   column1  column2\n",
       "0        1        3\n",
       "1        2        4\n",
       "2        3        5\n",
       "3        4        6\n",
       "4        5        7"
      ]
     },
     "execution_count": 53,
     "metadata": {},
     "output_type": "execute_result"
    },
    {
     "data": {
      "text/html": [
       "<div>\n",
       "<style scoped>\n",
       "    .dataframe tbody tr th:only-of-type {\n",
       "        vertical-align: middle;\n",
       "    }\n",
       "\n",
       "    .dataframe tbody tr th {\n",
       "        vertical-align: top;\n",
       "    }\n",
       "\n",
       "    .dataframe thead th {\n",
       "        text-align: right;\n",
       "    }\n",
       "</style>\n",
       "<table border=\"1\" class=\"dataframe\">\n",
       "  <thead>\n",
       "    <tr style=\"text-align: right;\">\n",
       "      <th></th>\n",
       "      <th>column1</th>\n",
       "      <th>column2</th>\n",
       "    </tr>\n",
       "  </thead>\n",
       "  <tbody>\n",
       "    <tr>\n",
       "      <th>0</th>\n",
       "      <td>1</td>\n",
       "      <td>3</td>\n",
       "    </tr>\n",
       "    <tr>\n",
       "      <th>1</th>\n",
       "      <td>2</td>\n",
       "      <td>4</td>\n",
       "    </tr>\n",
       "    <tr>\n",
       "      <th>2</th>\n",
       "      <td>3</td>\n",
       "      <td>5</td>\n",
       "    </tr>\n",
       "    <tr>\n",
       "      <th>3</th>\n",
       "      <td>4</td>\n",
       "      <td>6</td>\n",
       "    </tr>\n",
       "    <tr>\n",
       "      <th>4</th>\n",
       "      <td>5</td>\n",
       "      <td>7</td>\n",
       "    </tr>\n",
       "  </tbody>\n",
       "</table>\n",
       "</div>"
      ],
      "text/plain": [
       "   column1  column2\n",
       "0        1        3\n",
       "1        2        4\n",
       "2        3        5\n",
       "3        4        6\n",
       "4        5        7"
      ]
     },
     "execution_count": 53,
     "metadata": {},
     "output_type": "execute_result"
    }
   ],
   "source": [
    "data = {\n",
    "    'column1': [1, 2, 3, 4, 5],\n",
    "    'column2': [3, 4, 5, 6, 7]\n",
    "}\n",
    "df = pd.DataFrame(data)\n",
    "df"
   ]
  },
  {
   "cell_type": "code",
   "execution_count": 54,
   "id": "5895ed6e",
   "metadata": {},
   "outputs": [],
   "source": [
    "set_col1 = set(df['column1'])\n",
    "set_col2 = set(df['column2'])"
   ]
  },
  {
   "cell_type": "code",
   "execution_count": 55,
   "id": "16d6d26f",
   "metadata": {},
   "outputs": [
    {
     "name": "stdout",
     "output_type": "stream",
     "text": [
      "{1, 2, 3, 4, 5}\n",
      "{1, 2, 3, 4, 5}\n"
     ]
    }
   ],
   "source": [
    "print(set_col1)"
   ]
  },
  {
   "cell_type": "code",
   "execution_count": 56,
   "id": "689bf6e4",
   "metadata": {},
   "outputs": [
    {
     "name": "stdout",
     "output_type": "stream",
     "text": [
      "{3, 4, 5, 6, 7}\n",
      "{3, 4, 5, 6, 7}\n"
     ]
    }
   ],
   "source": [
    "print(set_col2)"
   ]
  },
  {
   "cell_type": "code",
   "execution_count": 57,
   "id": "1f04afcc",
   "metadata": {},
   "outputs": [
    {
     "name": "stdout",
     "output_type": "stream",
     "text": [
      "{1, 2}\n",
      "{6, 7}\n",
      "{1, 2}\n",
      "{6, 7}\n"
     ]
    }
   ],
   "source": [
    "uncommon_values_col1 = set_col1 - set_col2\n",
    "uncommon_values_col2 = set_col2 - set_col1\n",
    "print(uncommon_values_col1)\n",
    "print(uncommon_values_col2)"
   ]
  },
  {
   "cell_type": "code",
   "execution_count": 58,
   "id": "b62f940d",
   "metadata": {},
   "outputs": [
    {
     "name": "stdout",
     "output_type": "stream",
     "text": [
      "Uncommon values: {1, 2, 6, 7}\n",
      "Uncommon values: {1, 2, 6, 7}\n"
     ]
    }
   ],
   "source": [
    "uncommon_values = uncommon_values_col1.union(uncommon_values_col2)\n",
    "\n",
    "# Display the uncommon values\n",
    "print(\"Uncommon values:\", uncommon_values)"
   ]
  },
  {
   "cell_type": "code",
   "execution_count": 59,
   "id": "a52eeda9",
   "metadata": {},
   "outputs": [],
   "source": [
    "df.loc[len(df)]=(2,5)\n",
    "df.loc[len(df)]=(2,4)"
   ]
  },
  {
   "cell_type": "code",
   "execution_count": 60,
   "id": "12b983cf",
   "metadata": {},
   "outputs": [
    {
     "data": {
      "text/html": [
       "<div>\n",
       "<style scoped>\n",
       "    .dataframe tbody tr th:only-of-type {\n",
       "        vertical-align: middle;\n",
       "    }\n",
       "\n",
       "    .dataframe tbody tr th {\n",
       "        vertical-align: top;\n",
       "    }\n",
       "\n",
       "    .dataframe thead th {\n",
       "        text-align: right;\n",
       "    }\n",
       "</style>\n",
       "<table border=\"1\" class=\"dataframe\">\n",
       "  <thead>\n",
       "    <tr style=\"text-align: right;\">\n",
       "      <th></th>\n",
       "      <th>column1</th>\n",
       "      <th>column2</th>\n",
       "    </tr>\n",
       "  </thead>\n",
       "  <tbody>\n",
       "    <tr>\n",
       "      <th>0</th>\n",
       "      <td>1</td>\n",
       "      <td>3</td>\n",
       "    </tr>\n",
       "    <tr>\n",
       "      <th>1</th>\n",
       "      <td>2</td>\n",
       "      <td>4</td>\n",
       "    </tr>\n",
       "    <tr>\n",
       "      <th>2</th>\n",
       "      <td>3</td>\n",
       "      <td>5</td>\n",
       "    </tr>\n",
       "    <tr>\n",
       "      <th>3</th>\n",
       "      <td>4</td>\n",
       "      <td>6</td>\n",
       "    </tr>\n",
       "    <tr>\n",
       "      <th>4</th>\n",
       "      <td>5</td>\n",
       "      <td>7</td>\n",
       "    </tr>\n",
       "    <tr>\n",
       "      <th>5</th>\n",
       "      <td>2</td>\n",
       "      <td>5</td>\n",
       "    </tr>\n",
       "    <tr>\n",
       "      <th>6</th>\n",
       "      <td>2</td>\n",
       "      <td>4</td>\n",
       "    </tr>\n",
       "  </tbody>\n",
       "</table>\n",
       "</div>"
      ],
      "text/plain": [
       "   column1  column2\n",
       "0        1        3\n",
       "1        2        4\n",
       "2        3        5\n",
       "3        4        6\n",
       "4        5        7\n",
       "5        2        5\n",
       "6        2        4"
      ]
     },
     "execution_count": 60,
     "metadata": {},
     "output_type": "execute_result"
    },
    {
     "data": {
      "text/html": [
       "<div>\n",
       "<style scoped>\n",
       "    .dataframe tbody tr th:only-of-type {\n",
       "        vertical-align: middle;\n",
       "    }\n",
       "\n",
       "    .dataframe tbody tr th {\n",
       "        vertical-align: top;\n",
       "    }\n",
       "\n",
       "    .dataframe thead th {\n",
       "        text-align: right;\n",
       "    }\n",
       "</style>\n",
       "<table border=\"1\" class=\"dataframe\">\n",
       "  <thead>\n",
       "    <tr style=\"text-align: right;\">\n",
       "      <th></th>\n",
       "      <th>column1</th>\n",
       "      <th>column2</th>\n",
       "    </tr>\n",
       "  </thead>\n",
       "  <tbody>\n",
       "    <tr>\n",
       "      <th>0</th>\n",
       "      <td>1</td>\n",
       "      <td>3</td>\n",
       "    </tr>\n",
       "    <tr>\n",
       "      <th>1</th>\n",
       "      <td>2</td>\n",
       "      <td>4</td>\n",
       "    </tr>\n",
       "    <tr>\n",
       "      <th>2</th>\n",
       "      <td>3</td>\n",
       "      <td>5</td>\n",
       "    </tr>\n",
       "    <tr>\n",
       "      <th>3</th>\n",
       "      <td>4</td>\n",
       "      <td>6</td>\n",
       "    </tr>\n",
       "    <tr>\n",
       "      <th>4</th>\n",
       "      <td>5</td>\n",
       "      <td>7</td>\n",
       "    </tr>\n",
       "    <tr>\n",
       "      <th>5</th>\n",
       "      <td>2</td>\n",
       "      <td>5</td>\n",
       "    </tr>\n",
       "    <tr>\n",
       "      <th>6</th>\n",
       "      <td>2</td>\n",
       "      <td>4</td>\n",
       "    </tr>\n",
       "  </tbody>\n",
       "</table>\n",
       "</div>"
      ],
      "text/plain": [
       "   column1  column2\n",
       "0        1        3\n",
       "1        2        4\n",
       "2        3        5\n",
       "3        4        6\n",
       "4        5        7\n",
       "5        2        5\n",
       "6        2        4"
      ]
     },
     "execution_count": 60,
     "metadata": {},
     "output_type": "execute_result"
    }
   ],
   "source": [
    "df"
   ]
  },
  {
   "cell_type": "code",
   "execution_count": 61,
   "id": "2748cb53",
   "metadata": {},
   "outputs": [
    {
     "name": "stdout",
     "output_type": "stream",
     "text": [
      "   column1  column2\n",
      "0        1        3\n",
      "1        2        4\n",
      "5        2        5\n",
      "6        2        4\n",
      "   column1  column2\n",
      "3        4        6\n",
      "4        5        7\n",
      "Uncommon rows:\n",
      "    column1  column2\n",
      "0        1        3\n",
      "1        2        4\n",
      "2        2        5\n",
      "3        4        6\n",
      "4        5        7\n",
      "   column1  column2\n",
      "0        1        3\n",
      "1        2        4\n",
      "5        2        5\n",
      "6        2        4\n",
      "   column1  column2\n",
      "3        4        6\n",
      "4        5        7\n",
      "Uncommon rows:\n",
      "    column1  column2\n",
      "0        1        3\n",
      "1        2        4\n",
      "2        2        5\n",
      "3        4        6\n",
      "4        5        7\n"
     ]
    }
   ],
   "source": [
    "# Filter rows with uncommon values in column1\n",
    "uncommon_rows_col1 = df[~df['column1'].isin(set_col2)]\n",
    "\n",
    "# Filter rows with uncommon values in column2\n",
    "uncommon_rows_col2 = df[~df['column2'].isin(set_col1)]\n",
    "\n",
    "print(uncommon_rows_col1)\n",
    "print(uncommon_rows_col2)\n",
    "# Combine the uncommon rows\n",
    "uncommon_rows = pd.concat([uncommon_rows_col1, uncommon_rows_col2]).drop_duplicates().reset_index(drop=True)\n",
    "\n",
    "# Display the uncommon rows\n",
    "print(\"Uncommon rows:\\n\", uncommon_rows)"
   ]
  },
  {
   "cell_type": "code",
   "execution_count": null,
   "id": "61129b5c",
   "metadata": {},
   "outputs": [],
   "source": []
  },
  {
   "cell_type": "code",
   "execution_count": null,
   "id": "27c89425",
   "metadata": {},
   "outputs": [],
   "source": []
  },
  {
   "cell_type": "code",
   "execution_count": null,
   "id": "fbb7d881",
   "metadata": {},
   "outputs": [],
   "source": []
  },
  {
   "cell_type": "code",
   "execution_count": null,
   "id": "3b8dc1fa",
   "metadata": {},
   "outputs": [],
   "source": []
  },
  {
   "cell_type": "code",
   "execution_count": null,
   "id": "976f1925",
   "metadata": {},
   "outputs": [],
   "source": []
  },
  {
   "cell_type": "code",
   "execution_count": null,
   "id": "2ef12ff7",
   "metadata": {},
   "outputs": [],
   "source": []
  },
  {
   "cell_type": "code",
   "execution_count": null,
   "id": "1621d6a6",
   "metadata": {},
   "outputs": [],
   "source": []
  },
  {
   "cell_type": "code",
   "execution_count": null,
   "id": "214cbc67",
   "metadata": {},
   "outputs": [],
   "source": []
  },
  {
   "cell_type": "code",
   "execution_count": null,
   "id": "b64526a1",
   "metadata": {},
   "outputs": [],
   "source": []
  },
  {
   "cell_type": "code",
   "execution_count": null,
   "id": "cd0b8578",
   "metadata": {},
   "outputs": [],
   "source": []
  },
  {
   "cell_type": "code",
   "execution_count": null,
   "id": "aa2b240c",
   "metadata": {},
   "outputs": [],
   "source": []
  },
  {
   "cell_type": "code",
   "execution_count": null,
   "id": "079a480e",
   "metadata": {},
   "outputs": [],
   "source": []
  },
  {
   "cell_type": "code",
   "execution_count": null,
   "id": "414fa5a3",
   "metadata": {},
   "outputs": [],
   "source": []
  },
  {
   "cell_type": "code",
   "execution_count": null,
   "id": "bf1df1e3",
   "metadata": {},
   "outputs": [],
   "source": []
  },
  {
   "cell_type": "code",
   "execution_count": null,
   "id": "3f7d9bb6",
   "metadata": {},
   "outputs": [],
   "source": []
  },
  {
   "cell_type": "code",
   "execution_count": null,
   "id": "c687703c",
   "metadata": {},
   "outputs": [],
   "source": []
  },
  {
   "cell_type": "code",
   "execution_count": null,
   "id": "298a4568",
   "metadata": {},
   "outputs": [],
   "source": []
  },
  {
   "cell_type": "code",
   "execution_count": null,
   "id": "0faff895",
   "metadata": {},
   "outputs": [],
   "source": []
  },
  {
   "cell_type": "code",
   "execution_count": null,
   "id": "d6bb9af3",
   "metadata": {},
   "outputs": [],
   "source": []
  },
  {
   "cell_type": "code",
   "execution_count": null,
   "id": "1d0ee26b",
   "metadata": {},
   "outputs": [],
   "source": []
  }
 ],
 "metadata": {
  "kernelspec": {
   "display_name": "Python 3 (ipykernel)",
   "language": "python",
   "name": "python3"
  },
  "language_info": {
   "codemirror_mode": {
    "name": "ipython",
    "version": 3
   },
   "file_extension": ".py",
   "mimetype": "text/x-python",
   "name": "python",
   "nbconvert_exporter": "python",
   "pygments_lexer": "ipython3",
   "version": "3.11.5"
  }
 },
 "nbformat": 4,
 "nbformat_minor": 5
}
